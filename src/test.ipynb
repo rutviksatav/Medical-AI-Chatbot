{
 "cells": [
  {
   "cell_type": "code",
   "execution_count": 28,
   "metadata": {},
   "outputs": [],
   "source": [
    "import langchain\n",
    "from langchain_community.document_loaders import PyPDFLoader\n",
    "FILEPATH = r\"/Users/rutvik/Developer/DS/Medical-AI-Chatbot/data/Gale Encyclopedia of Medicine. Vol. 1. 2nd Edition ( PDFDrive ).pdf\"\n",
    "def document_loader(PATH):\n",
    "    loader = PyPDFLoader(FILEPATH)\n",
    "    document = loader.load()\n",
    "    return document\n",
    "\n",
    "doc = document_loader(PATH=FILEPATH)\n",
    "\n",
    "        \n",
    "        "
   ]
  },
  {
   "cell_type": "code",
   "execution_count": 29,
   "metadata": {},
   "outputs": [],
   "source": [
    "docs = doc[:50]"
   ]
  },
  {
   "cell_type": "code",
   "execution_count": 30,
   "metadata": {},
   "outputs": [],
   "source": [
    "from langchain_text_splitters import RecursiveCharacterTextSplitter\n",
    "text_splitter = RecursiveCharacterTextSplitter(\n",
    "    chunk_size=500,\n",
    "    chunk_overlap=20,\n",
    "    length_function=len,\n",
    "    is_separator_regex=False,\n",
    ")\n",
    "splitted_doc = text_splitter.split_documents(docs)"
   ]
  },
  {
   "cell_type": "code",
   "execution_count": 31,
   "metadata": {},
   "outputs": [],
   "source": [
    "import getpass\n",
    "import os\n",
    "from dotenv import load_dotenv\n",
    "\n",
    "# Load environment variables from .env file\n",
    "load_dotenv()\n",
    "os.getenv(\"GOOGLE_API_KEY\")\n",
    "\n",
    "from langchain_google_genai import GoogleGenerativeAIEmbeddings\n",
    "from langchain_google_genai import ChatGoogleGenerativeAI\n",
    "from langchain_chroma import Chroma\n",
    "\n",
    "embeddings = GoogleGenerativeAIEmbeddings(model=\"models/embedding-001\")\n",
    "llm = ChatGoogleGenerativeAI(\n",
    "    model=\"gemini-1.5-pro\",\n",
    "    temperature=0,\n",
    "    max_tokens=None,\n",
    "    timeout=None,\n",
    "    max_retries=2,\n",
    ")\n",
    "\n"
   ]
  },
  {
   "cell_type": "code",
   "execution_count": 60,
   "metadata": {},
   "outputs": [],
   "source": [
    "\n",
    "vectorstore = Chroma.from_documents(documents=splitted_doc, embedding=embeddings)\n",
    "\n",
    "# Retrieve and generate using the relevant snippets of the blog.\n",
    "retriever = vectorstore.as_retriever(search_type=\"similarity\", search_kwargs={\"k\": 10})"
   ]
  },
  {
   "cell_type": "code",
   "execution_count": 61,
   "metadata": {},
   "outputs": [],
   "source": [
    "from langchain.chains import create_retrieval_chain\n",
    "from langchain.chains.combine_documents import create_stuff_documents_chain\n",
    "from langchain_core.prompts import ChatPromptTemplate\n",
    "\n",
    "\n",
    "system_prompt = (\n",
    "    \"You are an assistant for question-answering tasks. \"\n",
    "    \"Use the following pieces of retrieved context to answer \"\n",
    "    \"the question. If you don't know the answer, say that you \"\n",
    "    \"don't know. Use three sentences maximum and keep the \"\n",
    "    \"answer concise.\"\n",
    "    \"\\n\\n\"\n",
    "    \"{context}\"\n",
    ")\n",
    "\n",
    "prompt = ChatPromptTemplate.from_messages(\n",
    "    [\n",
    "        (\"system\", system_prompt),\n",
    "        (\"human\", \"{input}\"),\n",
    "    ]\n",
    ")\n",
    "\n",
    "question_answer_chain = create_stuff_documents_chain(llm, prompt)\n",
    "rag_chain = create_retrieval_chain(retriever, question_answer_chain)\n"
   ]
  },
  {
   "cell_type": "code",
   "execution_count": 68,
   "metadata": {},
   "outputs": [],
   "source": [
    "\"what is Definition of Acetaminophen?\"result = rag_chain.invoke({\"input\": })\n",
    "print(result['answer'])"
   ]
  },
  {
   "cell_type": "code",
   "execution_count": 69,
   "metadata": {},
   "outputs": [
    {
     "name": "stdout",
     "output_type": "stream",
     "text": [
      "Acetaminophen is a medicine used to relieve pain and reduce fever. It is as effective as aspirin for reducing fever but is less likely to irritate the stomach. However, unlike aspirin, it does not reduce redness, stiffness, or swelling associated with arthritis. \n",
      "\n"
     ]
    }
   ],
   "source": [
    "print(result['answer'])"
   ]
  },
  {
   "cell_type": "code",
   "execution_count": 70,
   "metadata": {},
   "outputs": [
    {
     "data": {
      "text/plain": [
       "{'input': 'what is Definition of Acetaminophen?',\n",
       " 'context': [Document(metadata={'page': 32, 'source': '/Users/rutvik/Developer/DS/Medical-AI-Chatbot/data/Gale Encyclopedia of Medicine. Vol. 1. 2nd Edition ( PDFDrive ).pdf'}, page_content='and reduces fever about as well as aspirin. But differencesbetween these two common drugs exist. Acetaminophenis less likely than aspirin to irritate the stomach. However,unlike aspirin, acetaminophen does not reduce the red-ness, stiffness, or swelling that accompany arthritis.\\nRecommended dosage\\nThe usual dosage for adults and children age 12 and'),\n",
       "  Document(metadata={'page': 32, 'source': '/Users/rutvik/Developer/DS/Medical-AI-Chatbot/data/Gale Encyclopedia of Medicine. Vol. 1. 2nd Edition ( PDFDrive ).pdf'}, page_content='and reduces fever about as well as aspirin. But differencesbetween these two common drugs exist. Acetaminophenis less likely than aspirin to irritate the stomach. However,unlike aspirin, acetaminophen does not reduce the red-ness, stiffness, or swelling that accompany arthritis.\\nRecommended dosage\\nThe usual dosage for adults and children age 12 and'),\n",
       "  Document(metadata={'page': 32, 'source': '/Users/rutvik/Developer/DS/Medical-AI-Chatbot/data/Gale Encyclopedia of Medicine. Vol. 1. 2nd Edition ( PDFDrive ).pdf'}, page_content='and reduces fever about as well as aspirin. But differencesbetween these two common drugs exist. Acetaminophenis less likely than aspirin to irritate the stomach. However,unlike aspirin, acetaminophen does not reduce the red-ness, stiffness, or swelling that accompany arthritis.\\nRecommended dosage\\nThe usual dosage for adults and children age 12 and'),\n",
       "  Document(metadata={'page': 32, 'source': '/Users/rutvik/Developer/DS/Medical-AI-Chatbot/data/Gale Encyclopedia of Medicine. Vol. 1. 2nd Edition ( PDFDrive ).pdf'}, page_content='Description\\nThis drug is available without a prescription. Aceta-\\nminophen—or APAP—is sold under various brandnames, including Tylenol, Panadol, Aspirin Free Anacin,\\nand Bayer Select Maximum Strength Headache Pain\\nRelief Formula. Many multi-symptom cold, flu, andsinus medicines also contain acetaminophen. Check theingredients listed on the container to see if aceta-minophen is included in the product.\\nStudies have shown that acetaminophen relieves pain'),\n",
       "  Document(metadata={'page': 32, 'source': '/Users/rutvik/Developer/DS/Medical-AI-Chatbot/data/Gale Encyclopedia of Medicine. Vol. 1. 2nd Edition ( PDFDrive ).pdf'}, page_content='Description\\nThis drug is available without a prescription. Aceta-\\nminophen—or APAP—is sold under various brandnames, including Tylenol, Panadol, Aspirin Free Anacin,\\nand Bayer Select Maximum Strength Headache Pain\\nRelief Formula. Many multi-symptom cold, flu, andsinus medicines also contain acetaminophen. Check theingredients listed on the container to see if aceta-minophen is included in the product.\\nStudies have shown that acetaminophen relieves pain'),\n",
       "  Document(metadata={'page': 32, 'source': '/Users/rutvik/Developer/DS/Medical-AI-Chatbot/data/Gale Encyclopedia of Medicine. Vol. 1. 2nd Edition ( PDFDrive ).pdf'}, page_content='Description\\nThis drug is available without a prescription. Aceta-\\nminophen—or APAP—is sold under various brandnames, including Tylenol, Panadol, Aspirin Free Anacin,\\nand Bayer Select Maximum Strength Headache Pain\\nRelief Formula. Many multi-symptom cold, flu, andsinus medicines also contain acetaminophen. Check theingredients listed on the container to see if aceta-minophen is included in the product.\\nStudies have shown that acetaminophen relieves pain'),\n",
       "  Document(metadata={'page': 31, 'source': '/Users/rutvik/Developer/DS/Medical-AI-Chatbot/data/Gale Encyclopedia of Medicine. Vol. 1. 2nd Edition ( PDFDrive ).pdf'}, page_content='and reduce fever .\\nPurpose\\nAcetaminophen is used to relieve many kinds of\\nminor aches and pains—headaches, muscle aches, back-aches, toothaches, menstrual cramps, arthritis, and theaches and pains that often accompany colds.\\nGALE ENCYCLOPEDIA OF MEDICINE 2 18AcetaminophenGEM - 0001 to 0432 - A  10/22/03 1:41 PM  Page 18'),\n",
       "  Document(metadata={'page': 31, 'source': '/Users/rutvik/Developer/DS/Medical-AI-Chatbot/data/Gale Encyclopedia of Medicine. Vol. 1. 2nd Edition ( PDFDrive ).pdf'}, page_content='and reduce fever .\\nPurpose\\nAcetaminophen is used to relieve many kinds of\\nminor aches and pains—headaches, muscle aches, back-aches, toothaches, menstrual cramps, arthritis, and theaches and pains that often accompany colds.\\nGALE ENCYCLOPEDIA OF MEDICINE 2 18AcetaminophenGEM - 0001 to 0432 - A  10/22/03 1:41 PM  Page 18'),\n",
       "  Document(metadata={'page': 31, 'source': '/Users/rutvik/Developer/DS/Medical-AI-Chatbot/data/Gale Encyclopedia of Medicine. Vol. 1. 2nd Edition ( PDFDrive ).pdf'}, page_content='and reduce fever .\\nPurpose\\nAcetaminophen is used to relieve many kinds of\\nminor aches and pains—headaches, muscle aches, back-aches, toothaches, menstrual cramps, arthritis, and theaches and pains that often accompany colds.\\nGALE ENCYCLOPEDIA OF MEDICINE 2 18AcetaminophenGEM - 0001 to 0432 - A  10/22/03 1:41 PM  Page 18'),\n",
       "  Document(metadata={'page': 31, 'source': '/Users/rutvik/Developer/DS/Medical-AI-Chatbot/data/Gale Encyclopedia of Medicine. Vol. 1. 2nd Edition ( PDFDrive ).pdf'}, page_content='ORGANIZATIONS\\nNational Clearinghouse on Child Abuse and Neglect Informa-\\ntion. 330 C Street SW, Washington, DC 20447. (800) 392-3366.\\nOTHER\\nElder Abuse Prevention. <http://www.oaktrees.org/elder>.National Institute on Drug Abuse. <http://www.nida.nih.gov>.\\nLaith Farid Gulli, M.D.\\nBilal Nasser, M.Sc.\\nAcceleration-deceleration cervical injury\\nseeWhiplash\\nACE inhibitors seeAngiotensin-converting\\nenzyme inhibitors\\nAcetaminophen\\nDefinition\\nAcetaminophen is a medicine used to relieve pain')],\n",
       " 'answer': 'Acetaminophen is a medicine used to relieve pain and reduce fever. It is as effective as aspirin for reducing fever but is less likely to irritate the stomach. However, unlike aspirin, it does not reduce redness, stiffness, or swelling associated with arthritis. \\n'}"
      ]
     },
     "execution_count": 70,
     "metadata": {},
     "output_type": "execute_result"
    }
   ],
   "source": [
    "result"
   ]
  },
  {
   "cell_type": "code",
   "execution_count": null,
   "metadata": {},
   "outputs": [],
   "source": []
  },
  {
   "cell_type": "code",
   "execution_count": null,
   "metadata": {},
   "outputs": [],
   "source": []
  }
 ],
 "metadata": {
  "kernelspec": {
   "display_name": "venv",
   "language": "python",
   "name": "python3"
  },
  "language_info": {
   "codemirror_mode": {
    "name": "ipython",
    "version": 3
   },
   "file_extension": ".py",
   "mimetype": "text/x-python",
   "name": "python",
   "nbconvert_exporter": "python",
   "pygments_lexer": "ipython3",
   "version": "3.1.-1"
  }
 },
 "nbformat": 4,
 "nbformat_minor": 2
}
